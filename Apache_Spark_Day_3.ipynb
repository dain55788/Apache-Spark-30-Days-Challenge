{
  "nbformat": 4,
  "nbformat_minor": 0,
  "metadata": {
    "colab": {
      "provenance": []
    },
    "kernelspec": {
      "name": "python3",
      "display_name": "Python 3"
    },
    "language_info": {
      "name": "python"
    }
  },
  "cells": [
    {
      "cell_type": "markdown",
      "source": [
        "# Day 3: Understanding **Spark Architecture** 🏛️\n"
      ],
      "metadata": {
        "id": "3Dng2bYQHPZ5"
      }
    },
    {
      "cell_type": "markdown",
      "source": [
        "#### **Welcome to Day 3 of our PySpark journey! Today, we’ll explore the architecture of Spark – the foundation that enables Apache Spark to process big data efficiently and distribute tasks across multiple machines.**"
      ],
      "metadata": {
        "id": "a-ACSUifHdRA"
      }
    },
    {
      "cell_type": "markdown",
      "source": [
        "\n",
        "\n",
        "---\n",
        "\n"
      ],
      "metadata": {
        "id": "hCiAT-9uHlaD"
      }
    },
    {
      "cell_type": "markdown",
      "source": [
        "## Overview of Spark Architecture\n",
        "Spark’s architecture consists of **three main components**:\n",
        "\n",
        "1.**Driver Program and SparkContext**\n",
        "\n",
        "2.**Cluster Manager**\n",
        "\n",
        "3.**Worker Nodes and Executors**"
      ],
      "metadata": {
        "id": "yic1M8xxHpdx"
      }
    },
    {
      "cell_type": "markdown",
      "source": [
        "\n",
        "\n",
        "---\n",
        "\n"
      ],
      "metadata": {
        "id": "WcPNhkcaIBo1"
      }
    },
    {
      "cell_type": "markdown",
      "source": [
        "![467845683_515618978124966_6068497665187842342_n.jpg](data:image/jpeg;base64,/9j/4AAQSkZJRgABAQAAAQABAAD/4gHYSUNDX1BST0ZJTEUAAQEAAAHIbGNtcwIQAABtbnRyUkdCIFhZWiAH4gADABQACQAOAB1hY3NwTVNGVAAAAABzYXdzY3RybAAAAAAAAAAAAAAAAAAA9tYAAQAAAADTLWhhbmSdkQA9QICwPUB0LIGepSKOAAAAAAAAAAAAAAAAAAAAAAAAAAAAAAAAAAAAAAAAAAlkZXNjAAAA8AAAABxjcHJ0AAABDAAAAAx3dHB0AAABGAAAABRyWFlaAAABLAAAABRnWFlaAAABQAAAABRiWFlaAAABVAAAABRyVFJDAAABaAAAAGBnVFJDAAABaAAAAGBiVFJDAAABaAAAAGBkZXNjAAAAAAAAAAV1UkdCAAAAAAAAAAAAAAAAdGV4dAAAAABDQzAAWFlaIAAAAAAAAPNUAAEAAAABFslYWVogAAAAAAAAb6AAADjyAAADj1hZWiAAAAAAAABilgAAt4kAABjaWFlaIAAAAAAAACSgAAAPhQAAtsRjdXJ2AAAAAAAAACoAAAB8APgBnAJ1A4MEyQZOCBIKGAxiDvQRzxT2GGocLiBDJKwpai5+M+s5sz/WRldNNlR2XBdkHWyGdVZ+jYgskjacq6eMstu+mcrH12Xkd/H5////2wBDAAkGBwgHBgkICAgKCgkLDhcPDg0NDhwUFREXIh4jIyEeICAlKjUtJScyKCAgLj8vMjc5PDw8JC1CRkE6RjU7PDn/2wBDAQoKCg4MDhsPDxs5JiAmOTk5OTk5OTk5OTk5OTk5OTk5OTk5OTk5OTk5OTk5OTk5OTk5OTk5OTk5OTk5OTk5OTn/wAARCAFgAg4DASIAAhEBAxEB/8QAHAABAQEAAwEBAQAAAAAAAAAAAAYFAQMEBwII/8QAZBAAAQMDAQIEDg0HCAULAgcAAQACAwQFEQYhMRITQVEUFRY2VFVWYXF1k5XR0wciMzQ1UnJzlLGztNIXU4GRkpbUIyUyQnShssEkJidigzdERUZjZnaio8XiZIJDhIXC4fDx/8QAGQEBAAMBAQAAAAAAAAAAAAAAAAECAwQF/8QAJREBAQACAQQCAgMBAQAAAAAAAAECERIDEzFRFCEEYSIyQVJx/9oADAMBAAIRAxEAPwD7iiIgIiICIiAiIgIiICIiAiIgIiICIiAiIgIiICIiAiIgIiICIiAiIgIiICIiAiIgIiICIiD8vIAyV1TSNjAMkzI87uEQM/rXFY4tiJHMvn3siW+kums9J0tdA2enfHVFzHEgHAYeTagvOPi7Ng/aHpTj4uzYP2h6VKH2PdGuAzY4xy7JHj/NPyd6N7Rt8tJ6UFXx8XZsH7Q9KcfF2bB+0PSpT8neje0bPLSelPyd6N7Rs8tJ6UFXx8XZsH7Q9KcfF2bB+0PSpT8neje0bPLSelPyd6N7Rs8tJ6UFXx8XZsH7Q9KcfF2bB+0PSpX8n+j8ACyRgD/fJz+srj8n2kO00f7R9KCr4+Ls2D9oelOPi7Ng/aHpUr+T7SHaWP8AaPpXH5PdH9pmftn0oKvj4uzYP2h6U4+Ls2D9oelS35PtHgbLLH+2fSuPyfaQP/Q0flHelBVcfF2bB+0PSnHxdmwftD0qV/J9o/tLH5R3pXI9j7R/aSPyjvSgqePi7Ng/aHpTj4uzYP2h6VLfk/0d2jj8o/0r8v8AY90ecYszW+B7tv6ygq+Pi7Ng/aHpTj4uzYP2h6VJfk70h2pH7Z9Kfk60h2oHlD6UFbx8XZsH7Q9KcfF2bB+0PSpH8nOkO1I8ofSv2PY90cAP5jjJHKZH7f70FbHNG53BbVRPcdwaQSf713Nk2kcoOF81qdN2axa+0nLaqJtKZpqgPDSTkCFxG8nnV8yQmsqG53O/yCDRREQEREBERAREQEREBERAREQEREBERAREQEREBERAREQEREBERAREQEREBERAREQEREBERB5a/wBxd4FE6z6/NIfNVX1MVtX+4u8CidZ9fmkfmar6mIKxu4eBZsWo7FKJjHerc8QNL5i2qjPFgEAl2DsGSBk8pWk3cPAoK7DqW1nJUwxB1FqGEwmMNJb0W0e0yN2HgkHnOSUFUdS2EUoqjfLZ0MXmMS9Fx8AvAyW5zjOCDjfgrTBBAIIIIyCNxC+faIgfQ1s2j6jMrLRUmpje5mx0LgHR5OMZDnE94s7y/b9bXThy1kdNRuooruLWaQh3RJOcB4dnAJJB4PB3cqC7qaiCkgfUVM0cMEY4T5JHBrWjnJOwBcwTRVMLJ4JWSxSND2PYQWuBGQQRsII5QouC6366UN7bUdLehKOSrpZjHHI2R4awFjmgkgbScgk94rO0pqirotOSiaOIxWuzU9TFAIyHzMMQ9txgeRjhNcCOCCNm9B9IX5lkjhifJK9scbAXOe4gAADJJJ3AL547WGp49OVF2kt9ExrYYamB7w3gyNc4AswyVx2ZBDzgHBBaCrm2dMeJl6ZGkMnGu4s04cBxf9XIJPtt+cbOZB+RebUbebiLnRmhBwakTt4oHOMcPON+zfvXppKqnradlRSTxVEEgyySJ4e1wzjII2FfMayCTSTrjeqBprdO1808Vyo4wD0O/huaJGAbMbgR/wDxwd+56iuNLcek9sZQwGltQri+qaSJAMgMaAW4Axtdk45kFfV1VPRU76irnip4Ixl8krwxrRnG0nYF+opY5omSwyMkikAcx7CCHAjIII2EEcq+b3fV1bfLJV00MFPQRyWF1fOagF5cHggMZgjGzbwiDvAwv1T6ovFJDZ7LZrfHUTR2eGrcZC0cPYBgF0jA0DG1w4RGf6PKg+kouumkdNTRSvZxbpGBxZkHgkjOMjYcc42LsQEREBERAREQTGouvjRvz9R9iVSx+/qr5Q+oKa1D186N+eqPsSqWP39VfKH1BBqoiICIiAiIgIiICIiAiIgIiICIiAiIgIiICIiAiIgIiICIiAiIgIiICIiAiIgIiICIiAiIg8tf7i7wKJ1n1+aQ+Zq/8LFbV/uLvAonWfX5pD5mr/wsQVjdw8C65qeCcxOmhjkMTw+MvaDwHAEAjO44JGRt2ldjdw8C5QdbYIWzvnbFGJpAGvkDQHOAzgE7yBk4HJk866BarcLgbgKClFcRg1AhbxhGMY4WM4xs3r1ogzoLDZqeKpihtNBFFUjE7GUzAJRt2OAGDvO/O8rmmsdopZYZKe1UEMkLSyJ8dOxpjaSSQCBsBJJIG/J51oIgzep2x9DPpuk1u6HkeJHxdCx8BzhucRjBO07d69rKanjpRSMgibTBnFiEMAYG4xgDdjGzG7C7UQeOitFsoIJYKK3UdLDN7oyGFrGv2Y2gAA7Nm1K21W24cV0bb6Sp4k5j46Fr+LPeyDjcN3MvYiDx11pttxex1db6SqdGCGGaFshaDsIBIOM8uF1vsVnfFTQvtNA6KmOYGGnYREc5y0YwNu3ZhaCICIiAiIgIiICIiCY1D186M+eqPsSqWP39VfKH1BTWoh/rvo08gnqB/wCiVSx+/qr5Q+oINVERAREQEREBERAREQEREBERAREQEREBERAREQEREBERAREQEREBERAREQEREBERAREQEREHlr/cXeBRWs+vzSXzNV9TFa1/uLvAovWXX5pL5mq+piCqbuHgWQ7UtuEkjGNuEvFyOjc6G3VMjOE0kOAc1hBwQQcE7QVrt3DwLH0p8GT+MK37zKpk3UW6h1TUH5i7eaar1adU1B+Yu3mmq9WvxU6qtNNdJLY91Y6tjaHuiioJ5CGk4DhwWEEZ2ZGRnYtOgrILhSsqacvMTyQOHG5hBBIILXAEEEHYQFbjPavKs/qmoPzF2801Xq06pqD8xdvNNV6ta6KeEOTI6pqD8xdvNNV6tOqag/MXbzTVerWuuOE3h8DI4eM4ztxz4ThDkyeqag/MXbzTVerTqmoPzF2801Xq1ronCHJjS6qtkLQ6WO5saXBgL7XVAEkgAZMe8kgAcpIHKuzqjouxrv5pq/Vr86p+DqfxhRfeolQLn6udwskaYTlNsHqkouxrv5pq/Vp1SUXY13801fq1vIse/fS/CMHqkouxrv5pq/Vp1SUXY13801fq1vInfvo4Rg9UlF2Nd/NNX6tOqSi7Gu/mmr9Wt5E799HCMHqkouxrv5pq/Vr9U+oKCergpQ2uilncWR9EUE8IcQ0uIDnsAzhpOM8hW4sTUPwlpzxg/wC61Ctj1rbJpFwkm2dqHr10d/aKj7Fyo4/f1V8ofUFOah69dHf2io+xcqOP39VfKH1BdCjVREQEREBERAREQEREBERAREQEREBERAREQEREBERAREQEREBERAREQEREBERAREQEREBERB5a/wBxd4FF6y6/NJfM1X1MVpX+4u8Ci9Zdfmkvmar6mIKpu4eBY+lPgyfxhW/eZVsN3DwLH0p8GT+MK37zKrYeVcvCE1LV0NT7ItdB1RQWwi0iB8hmja0v4wkxuLgcbCCQCD31r6w1QI6SG42DUdM90Li59E10LhVRsyZCwkEggA7QcbCN6u0WmlNvm111VV9B2MWm+xS0VWJOiLpUvjiDHhoLY3uETmMO07CzJwBkHavTU367i4UFuud5p7M2S38ayuijBjqajhY4IMrcYAweCACc7DjC+gImjb5nf9TXS2dUMLr29lRTR0s9IDTxtJa/Y/DSwngAnbnJGwE8+nT1bj7INUX3yURzUUElHBwoRHVAl5LWEtyQDg5ac7dpIAxcomjb5nZNT3mtmtjpLqDNUunbdKPiWM6WtaDh+SMsxgbZCQSdgW77HVwuN5tUVyq72yuaWPhkhZDGA2QPOHEt2glmNm7aCMZVeiSFrI1T8HU/jCi+9RKgU/qn4Op/GFF96iVAuL8rzG/S8OmrqYaKkmqqmQRwQML5Hnc1oGST+gKdt2pblcbX03p7E51vkaXQAVH+kPbnAcY+DgAjJ2OJxuBJwtm+25t4stdbXvMbauB8ReBng5BGcd7KwdFC/Wu0UlluVn4L6RghbWRzxmF7BsBxnhg42Y4O0jeM7MJJrbRWrw3yslt1orK6GBtRJTROlETpOLDw0ZIzg4OAcbN/NvUTTWG5x6xpLrDYzRAVNWKidkzHmRjwAx7iXlzxkA4wODuDeVdFt05caWwVkdRp6SXUAp6iJ1wbVMxWGTIBJ4YLt42PAAAODnAM8Z7N1f2it6Z2mir+L4vomFkvAzng8IA4zgZxnfgL2L5dbtN6ggexlHbJrbLLYDRTVRmh99DHBe4seXEAAgOAJGRsAGzc9jvTtRZmPlqIK6lmfCyOaKWSnMb3je9oiAyd/tnnhHO0Helxk+9kq1WJqH4S054wf91qFtrE1D8Jac8YP+61Cjp/2hl4Z2oevTR39oqPsHKjj9/VXyh9QU5qHr00d/aKj7Byo4/f1V8ofUF3MWqiIgIiICIiAiIgIiICIiAiIgIiICIiAiIgIiICIiAiIgIpm9a701Zn8VU3SGSozgU9PmaQnmw3OD4cLMGrtS3TZY9HVTIzunucopwO/wADaSPAUFyuuaWOGMySyNjYBtc4gAeElRXSLW91+FNTwW6I74LVT7f0SP8AbD9C7IvYx04XtluIrrtO3bxlfVPkJPOQCAf1IPdctfaTtueib9Rlw/qwv40j9DMlZ49kWnqPgzT2obgD/RkioSIz3y5xGAfAqS22Cz2rHS+10VKRywwNaT4SBkrTQRPVHrKr956KMLTukrLgxuPCwAnm/vTg+yRU7S/TVEwnYGiaV4HLknAVsiCJ6R69nH8prKkpT/2FsY/H7RQ6P1FJtm13c3O546eOMfqCtkQRPUHXd22pPpDfQuPyfSP9tLrPVpfyllwDB+oNVuiCI6gKiPZDrTVIB38ZWiQ/oJbsTqIuzNkOuL6Ad/GOZIf0EjYrdEER1K6sh96a9qgByVFBFNkc2SR+tci3eyHB7nf7NVf2ijcz/CVbIggqur9kSnh/0m12CsGNvQtRJGf/ADhSuqtT3SDVFhrrzpiroeg4aklkM8dQXsIYXOBGBgAAnON6+u1/uLvAojW8EVRrXS8E8ccsUlPVtex7QWuBDMgg7CDzIIvQ3st9FXuoor45sVJUzONJOcDiATsY882MAHkO/ZtH0jShza5yN3TCt+8yoNI6ZwP9XbR9Cj9C/Oj4o4bNJFFG2OKOurGsYwABoFTKAABsAA5FbDyrl4bSIi0ZiIiAiIgIiIMjVPwdT+MKL71EqBT+qfg6n8YUX3qJUC4vyvMdHS8CIi5WwiIgIiICxNQ/CWnPGD/utQttYmofhLTnjB/3WoV+n/aK5eGdqHr00d/aKj7Byo4/f1V8ofUFOah69dHf2io+wcqOP39VfKH1BdzFqovwZGjlC441vOEHYi6+NbzhONbzhB2IuvjW84TjW84QdiLr41vOE41vOEHYi6+NbzhONbzhB2IuvjW84TjW84QdiLr41vOE41vOEHYi6+NbzhONbzhB2IvwJGnlC/QIO5ByiIgIil79rmzWaoFEJZK65OOG0VEzjpieYgbB+kg94oKhY1+1PZNPR8O63GCnJGyMu4UjvAwZJ/QFOdDa01Rtq6hmmbY7/wDBp3CSreO+/cz9G0biFs2DRNgsUnHUlC2SrJy6qqCZZnHn4R3HwYQY/VPqa/jg6b0+6lp3bq67ExNxztjHtiOUHdzhc9QdZdjwtU6luFxadrqWnPQ1Oe8Wt2nw5BV0iDJsunLLYmcG12ympTjBexg4ZHfcck/pK1kRAREQEREBERAREQEREBERAREQeWv9xd4FF6x6+9J/M1X1MVpX+4u8CitZEjXukBzw1QP6mIKwbh4FjaU+DJ/GFb95lWw3cPAsfSnwZP4wrfvMqth5Vy8B1VpwEtOoLSCDgg1kez+9cdVmm+6C0/TI/SvRorrNsPi+n+zatlYX8qy60vOl+091Wab7oLT9Mj9KdVmm+6C0/TI/SqFFHyr6Oz+091Wab7oLT9Mj9KdVmm+6C0/TI/SqFE+VfR2f2nuqzTfdBafpkfpXI1VpwkNGoLSSTgAVke3+9UCxta9Zt+8X1H2blM/JtutF6X7fq9x2+W2StukrYaMFj3yOmMIYWuBaeGCCCHAEEEbcKe6J0d3Un94pvXLY1T8HU/jCi+9RKg2q/W6kxs3Nq4YWze0P0To7upP7xTeuTonR3dSf3im9crjam1Y9+f8AMadu+0P0To7upP7xTeuTonR3dSf3im9crjam1O/P+Ydu+0P0To7upP7xTeuTonR3dSf3im9crjam1O/P+Ydu+0OKjR5IaNUkknAA1FNt/wDWXprbVT0N609LDNXPca17SJ62aYY6GnOwPeQDs3gZ385WtrTrNv3i+o+zcui+fCunfGD/ALtULbp5zOW61pTKXGybePUJ/wBddHD/AOoqPsXKjj9/VXyh9QU3qHr30d8/UfYuVJH7+qvlD6grCWpPZHt9dTsqKXTWpaiF/wDRkioOG123Gwh2Cu3q7pu5LVfm0/iXm9imR7NFW8NcQOATj/7irDj5fjlBMdXdN3Jar82n8SdXdN3Jar82n8Sp+Pl+OU4+X4xQTI11TEZ6ktVebj+JOrmm7ktVebj+JU3Hy/GKcfL8coJnq5pu5LVXm4/iTq5pu5LVXm4/iVNx8vxynHy/HKCYOuqYf9UtV+bT+JOrum7ktV+bT+JU/Hy/HKcfL8coJc67pRv0lqsf/pp/EnV7SdymqvNx/Eqjj5fjlOPl+OUEv1e0ncpqrzcfxJ1e0ncpqrzcfxKo4+X45Tj5fjlBL9XtJ3Kaq83H8S56u6buS1X5tP4lT8fL8cpx8vxygmGa/t4qqWCo0/qCk6JmZBHJU0XFs4bjgAku/wD7gqx4wMnMY5gcKL1+9z4rFwnEnpxS7/lqhulwpLZUy1VdUx09NGwFz5HAAb/7+9vKDaG0Kf1Lq+z6c4MVXOZa2T3Kjgbxk0hO4Bo3Z5zgKfN91BrN3FaZjda7Q7Y67VMf8pIOXiWH6z/cQqDTWkLTpwOlpoXT10mTLW1B4c0hO8lx3Z5hgIMDoHV2sPbXKZ+nLQ7/AJrTuBq5W/779zMjkG3eCFU2DTdo07TcRaqGGnyPbPAy9/ynHaf0la6ICIiAiIgIiICIiAiIgIiICIiAiIgIiICIiDy1/uLvAoXXlRBSa20nUVM0cMMcNUXSSODWtGGbSTsC29W6vslhbxFXVh9W7YylgHGTOJ3DgjdnkzgL5zq5991dqOxU9Vb3WKmqIaiOAzASTPjIbwy5m5pIwADtGSc7kH0em1JYamaOnp73bZppCGsYyqjc5xO4AA5JXXpT4Mn8YVv3mVS3sbex23TNRUXCvLJq0vcynI2iOPJAcOYuG3vA45SqnSnwZP4wrfvMqtgrk79F9Zth8X0/2bVo18M9RSSRU1UaWZww2YMDyzbtIB2E4zvBHeO5Z2i+s2w+L6f7Nq2QvOv9q6f8QlL08m1tcLIdT3AU1PRRzseKel4fCcSDk8VggY3AA7d63zqW1UdfFaamvc+vDmQOdxDwwyubkAvA4AcQCQCcrx0umrjBrOo1C67Uz2zxCndTiiIxEDkAO4z+lznBB27Byfi86WuF1ubKl95aIoa2Krp4n0xfxXAGCzIeAQSScgA7dpIwFe8bVXtr77T1dBdY7dUVLailil/l2Uz+LY9gOQHuYWEgjBGTyrr0dqCO72mhZLLNNX9CQyVL+h3iPhuY1x9uGhmTkHAOzO5eSXRubvcblS1VPSSV1M+B7IadwY9z975BxmHkbcYDTknJKaV0hUacrYporlBJEaSOmqI20hZxpjyGPBDzg4IByDnHJkYj+OvKVaVja16zb94vqPs3LZKxta9Zt+8X1H2blXHzE3w6NU/B1P4wovvUSoFP6p+DqfxhRfeolQLo/J8xl0vFdc/G8S/iQwy8E8DhkgZxszjbjPMo2puuqqbVNtsbqyyk1lPJMZhQS/yZZjIA47bnI25HgVspC7We/VOuLdeqWO3dB0MT4eBJVPbJIHjaSBGQMHcMnON4zsww/bStoXant7KamvVztsNwlGA0SiISHOAWNcSduzZk7dmSvRLdKBtb0uFwo2XBzctgdK0ybRkHgZBI5VM6201dr8a2KjbbGwz00cbZJCWS8NknDw4hhJbsGACADnIOdnoksFzZqiG70UraSOQZrYhVvfHUEM4IHFlmAdjRwwQcDcSU1POx26P1RHd7ZS9MKuhjuk7pQKeN4YXhkj2AtYXE4IbznblUygdJ6W1BYa6jqHOoCzE0VXGyqkIex8vGMc0FmOE0ueMYAIO/bsvkykl+iMbWnWbfvF9R9m5dF8+FdO+MH/dqhd+tes2/eL6j7Ny6L58K6d8YP+7VC6fx/wCtZdXzHi1D176O+fqPsXKkj9/VXyh9QU1qE/686NH/AG1R9iVSx+/qr5Q+oLVCP9iwY0ZbvkH/ABFeL2T7fRVdXpg1NNDI991hiJewEujOSWHI2gkDI3L3exb1mW75s/4ita9aZtV9ngnuMM8r6ch0XAqpYxGQchwDHAA7d+M9/Ygkp4upz2SbdQ2KMR01xpJX1FCx3Bha5oJa/ggEMyQASBz7Cc5/dz1TUXTR8tzrNMsktZY2R7TcCCXtm4PBHBbkkEAg7ARsONxrKHTlqoJamenp5BU1LOBLUPnkkmLebjHEuA3biMYHMukaSsosrrMIKjpe6ThmE1cx25zjPDzjO3GcZ24ztQeN+pq5t9q7N0sphVsjjlpQ+sIFRG5xBOyMlpaASRg+HG1eaj1tLX3aWko7NUzQMqJKXogNl4IkaDtcRGWNYTszwiRkEtwqRtrohV01WYeFU00Jhile4ucGHGQSSSScDacnft2nPmi03aoauoqoad8MlQ4vkEU8jGF5GC/gAhof/vAA8ucoPJpS/wBbf6aKrktPQlLJEXCXokPIeHlpZjAOMDIP6MBeC56yrbfU3prrMySntHFvmkZV+2fE8E8JrSwbQBtBIHMTy0NmtFFZKPoOgjkjgDi8MfM+TBO/BeSQM7cDZkk7yVM0+n33LV18mu9nnFvqOJ4l7qloZLxYIIexj8kEkEBwIwNoB2IPZSapray61VJBZ2yQUz4XSVAqgMQyMLg/gloOQAMt7+wlee163dXS2mWS1Oht93fIyknEwfJluf6bMANBAOME7tuFv0djoKK51NygZMKqqAEzjUSOa4Dd7QktGNwwBgZAwCV0UWmLRbJxU0VC1ssZe6FjpXmOIuzksaSQzOcEtA2EoMS362rbnV00FDZI5BVRvmhLqzgkRNfwHOeOAeCQcHAJ2E4ORg91s1Zc7hZemjLAxkBiLml9exo4YkLC0kgYAAznByNmM4B8Gl7Jd6Sph4dNWUomDumDpjTYkBaccCSL+Vc4EjDnkHGTvwFRw6Ws8NnNpZBMKIyCUMNVK4teCHAtcXcJu0A7CNuTylBjdW9QKFtT0oY5zbp0smY2qJw4kAOYSwcIHOdoav2zWVUJQ2W0NDI7mLZO5lTwi15Iw5g4A4QwQTngkcmVov0dY5InxGnnDH1IqyG1kzcyj+vkPGDy+HbvX5fouxP4fCp6o8KpFWc10+2Ybn/0942be8OYIKFE3DvBRVw1FcNQ10lo0mWhkZ4NXdXDMcPO1nI9/wDcP7wHn9k6+U9M+0UFMW1V1Fwgnjo2uwTg7ATuaCSACefvFe6g0lU3S9MuesZY66sAD4qNmehqffgAf1iOUnP6cArMvOmrfp6ksnQzXy1U15pTPVTHhSzHh5JJPJnk3fWvosnwsfmx/mg0GNDWgAAADYAMAL9rgbguUBERAREQEREBERAREQEREBERAREQEREBF8i9lj2TJrNXRWexyjoqCRslVKNobggiMeHG3vbOU41rVar3ru3U9yvd94i1VTA9lvtZLA5p5JJDtJ5CN2QcYQbl717ZrbVdAUpmutzOQ2joGca/PfI2DHLk5HMs3pfrTVPtrlWt05bnf81onB9U4czpNzT4P0hVVksNqsNN0PaqGGkj2Z4DdrscpcdpPfJK00Exa9I2XTdM826iY2dwPDqJDw5Xk78vO3bzDA7yxtZ9fmkPmqv/AAsVtX+4u8CidZ9fmkPmqv8AwsQVjdw8Cx9KfBk/jCt+8yrYbuHgWPpT4Mn8YVv3mVWwVy8O/RXWbYfF9P8AZtWypqisFXQ0cFHTaju0dPTxtijZxdMeC0AADJhJOABtJJXf0quPdPdvJUnqVzX8bO3bWdWN5Fg9Krj3T3byVJ6lOlVx7p7t5Kk9So+Nn+juxvIsHpVce6e7eSpPUp0quPdPdvJUnqU+Nn+juxvLG1r1m37xfUfZuXV0quPdPdvJUnqV0Vtgq66jno6nUd2kp6iN0UjOLphwmkEEZEIIyCdoIKmfjZy7L1Y7dU/B1P4wovvUSoFl3W3tudEaZ000H8pHK2SHHCY5jw9pHCBG9o2EELy9Krj3T3byVJ6la9bo3OyxnhnMZ9t5Fg9Krj3T3byVJ6lOlVx7p7t5Kk9SsfjZ/pp3Y3kWD0quPdPdvJUnqU6VXHunu3kqT1KfGz/R3Y3kWD0quPdPdvJUnqU6VXHunu3kqT1KfGz/AEd2O3WvWbfvF9R9m5dF8+FdO+MH/dqhdVbYKquo56Op1HdpKeojdFIzi6YcJpBBGRCCMgnaCCu2+fCunfGD/u1Qt+l07hLKzzzmVmng1D19aN+eqPsSqaP39VfKH1BTWouvnRvz1R9iVSx+/qr5Q+oKUpD2Lesy3fNn6yq5SPsXbNGW75s/WVXICIiAiIgIiICIiAiIgKOh9kSy9VNxsVVKym6F2NqHvAZIQMvaTyEHI7+D3s7Wq7yzT+nq+6PIzBGSwHc552NH6SQF/Nlm0rqPVE5no7fUTiV5c6oeOBGSTknhnAJ35xkoPtjprn7IDzFTOmt2mAcPmwWzVo5Q3P8ARYefl/WBaW230lrooqKhp2QU0Qw1jBgDv9885O0rwaSprvRWGmpb3LTS1kLQzh0+cFoAAzkDbjYcDC2UEvr0ZhsR5rxSn/zqrk+Fj82P81La79wsnjil/wAYVTJ8LH5sf5oNIbguVwNwXKAiIg4WZdb3RWqWCKpNQZZ2ucyOCmkncQ0tDjhjSQAXNGTgbVqKcu/Xhaf7BWfaUymTdRbqO3qttf5q7eaKv1adVtr/ADV280Vfq16UV+EV5PN1W2v81dvNFX6tOq21/mrt5oq/Vr0onCHJ5uq21/mrt5oq/Vp1W2v81dvNFX6telE4Q5PN1W2v81dvNFX6tOq21/mrt5oq/Vr0onCHJ5uq21/mrt5oq/Vp1W2v81dvNFX6telE4Q5PN1W2v81dvNFX6tOq21/mrt5oq/Vr0onCHJ5uq21/mrt5oq/Vp1W2v81dvNFX6telFHCHJ6KCtpLtQtqaZxkp3lzP5SNzDlri1wLXAEEOBBBGcheqNjY2BrGhrRuAGAsTRfwJJ4wrvvUq3lRcREQeWv8AcXeBRWsuv3SPzNV9TFbVozEQOZRuubRfKu92K52WkhqTQxzNeJJQwZeGAbzt3FBTt3DwKbtdRcrXDUUr7BcJ/wDS6mVskMlNwXNfO97SOFKDucNhA2rwZ9kLktFJ9Jb6Vxn2Qu1FH9KHpUy68Is23OnFf3M3bylL65OnFf3M3bylL65YnC9kLtPR/Sx6U4Xshdp6P6WPSp5VHGNvpxX9zN28pS+uTpxX9zN28pS+uWJn2Qu09H9LHpQn2Qj/ANEUY/8AzY9KcqcY2+nFf3M3bylL65OnFf3M3bylL65Yf+0PtRSfSx6Uz7IfJaKP6UPSnKnGNzpxX9zN28pS+uTpxX9zN28pS+uWHn2Q+1FH9JHpXOfZD7U0f0kelOVOMbfTiv7mbt5Sl9cnTiv7mbt5Sl9csTPsh9qaP6SPSuP9oXaij+kt9KcqcY3OnFf3M3bylL65OnFf3M3bylL65Yf+0LtRR/SW+lc59kLtRR/SW+lOVOMbfTiv7mbt5Sl9cnTiv7mbt5Sl9csTPshdqKP6S30pn2Qu1FH9Jb6U5U4xt9OK/uZu3lKX1ydOK/uZu3lKX1yxP9oPaik+kt9KY9kDtRSfSW+lOVOMbfTiv7mbt5Sl9cvNLJcLldbO42StpIqWqdNJLPJAQAYJWAAMkcSSXjk51m/7QRutFJ9Jb6Uz7IPaik+lN9Ki5Wpkke3UXXzo356o+xKpY/f1V8ofUFG0Ns1dXaosVbdrfTQ0tvkle57Jw52HRloGAdu0hWkbP9MqCNuXf5BQl890lVzUPsVPrKdwbPT0E0sbiAcOaHEHB2HaAq3pDWd0138nSepUVp0k+w5Vk9rKkf8AlevqKw62VmtVfCSsPpDWd0138nSepTpDWd0138nSepW4iw7mXtfjGH0hrO6a7+TpPUp0hrO6a7+TpPUrcRO5l7OMYfSGs7prv5Ok9SnSGs7prv5Ok9StxE7mXs4xh9Iazumu/k6T1KdIazumu/k6T1K3ETuZezjGH0hrO6a7+TpPUp0hrO6a7+TpPUrcRO5l7OMSV50NFfGQR3O+XapjgkErGPFMG8IbiQIQDy7CCNp51oNsFW1oDdS3YADAAjpAAPIrdRO5l7OMYfSGt7prv5Ok9SvJVU9ba7laAb1XVcVVVOgkiqI4AMCCV4ILI2kHLBy4xnYqdYeo/hHTvjB/3WoV+nnlcpLUWTTL137hZPHFL/jCqZPhY/Nj/NRmt7lQvq7Nbm1ULq1tzppXQhwLmtEgGSBu2kb9+VZyfCx+bH+a62TSG4LlcDcFygIiICnLx14Wn+wVn2lMtWqulBR1lNR1NXDDU1OeJZI4NMmMZAzvO0bN+1ZV468LT/YKz7SmUzyi+HuRTtPqOouV2rKOz2+OqgoHiKoqJagxN4fKxgDHcIgb8kDOzPKubVqKqq7+bXVWo0eaU1LC+bhPwH8DDm8EAHOTkEgjGCcrXbPShRF0V1ZBQ05nqHcFnCawd8uIAA75JARDvREQEU7q7Us2mRS1D7eKi3ySBk8zZiHwA73cDgnIA2naD9a/GsNVu0+23NpaFtdLXTNiYOPEbWgkAOJwdhJA3c55FG4nSlRfmIvMTDI1rZCAXBpJAONoBIGRnlwPAF+lKBERARERLzaL+BJfGFd96lW8sHRfwJL4wrvvUq3ljfLSeBEREvy9vCaQVm1VLO4YjqJWDkDXELUTCCdNvrydldUj/iFcdL7h2fVeUKouCOZOCOZBO9L7h2fVeUKdL7h2fVeUKouCOZOCOZBO9L7h2fVeUKdL7h2fVeUKouCOZOCOZBO9L7h2fVeUKdL7h2fVeUKouCOZOCOZBO9L7h2fVeUKdL7h2fVeUKouCOZOCOZBO9L7h2fVeUKdL7h2fVeUKouCOZOCOZBO9L7h2fVeUKdL7h2fVeUKouCOZOCOZBO9L7h2fVeUKdL7h2fVeUKouCOZOCOZBO9L7h2fVeUKdL7h2fVeUKouCOZOCOZBO9L7h2fVeUKdL7h2fU+UKouCOZOCOZBiQUVY0jhVlQR35CVqU8HFtPOd5O3K78DmXKD5Dpz/AJG6zxbU/U9fUuVfLdN/8jdZ4tqvqevqXKufr/40wYWtWXd+nakWMOfWgsIYx4Y97A4cNrXHcSMgHeOTbhStl1rQ2+kulTUU2oI3UghE9vq8yS04JI4bS9+XNJIBJJOwbMYxeXKgiuMDYpXysDHiRronljg4HIII7/Jy7jkEhRmurF0Lpi7zR9M7tdK5sUAeIeMlLWvBDQImANaPbHOBk7yThZ42X6qzcZq2mc+vg6XXMV1EGOdRiEOle15w1zMEgg8pJGMHOMLzt1zQmnhm6AuH8pXm3PYGMJinBwA7DyCDyEEjnwuW6Toq6mqal9dcjU3EQl9TIGsmaxhDmx8AsAA52luTk5yV+HaEpSwsju1ziBrumA4JhOJsDBGYzsGN279GxR/E+2TX6pbQapprlUx3OnpJrW5zqGeQRkScexgJY54Y07TtyNhzlei53KrvGvKDTrpaq30YoTWzMil4uWVxOAwvYcgDeeC7bzrXvmkKO93CSsqq2tHGUb6J0UZjDDG/ad7Cc5wQc7wOTIPFbo6jrOl00lfcG3G3AshuEb2Nn4J5HYbwXDGzBbz85zO8Ufb91lXBpYNfUVddVsrJI6ajpCeNk4eD7VrnEZzvJedmNpxgDzO15bGxNe+kr2vFcKCaIxtL4JjuDgHHIPIWcIFe65aap7nRU8FXWVj6mnmbURVgc0TMkbnBGG8AbCRjg4OTsztXjn0TRTRxAXC4RzNrRXyTtdGXzTAABz8sIwAMAAAd5ROP+pea6a2DLXNPR2ytNRDcGW+WJ4jBjeXNB2l+DkO2EEjJGcDau6+a9tNimip7jFPBVPh4+SBzoQ6JmSMkl+HHIPtWFxONgXYdFUbqe4QvuNweK6sbXFxdGDFMCCHMwwDkAwQRgDZvz6JtMRSXKG5tuVwiuDIBTSzxujBqIwc4eCwtG3O1oBGdhT+J9vPJrSmbdW21lruUtRNCJ6XgiENqmEgZjJeAcA5IOCACSF2QahqptX1VnFsqjDBBE90gdFhpeXe2OX5xgADAJznIGwn83bSEV1qoame8XRktNMJaZ0ZiBpyARhpMZJBztySTgZJwvZFYGRXoXaOvrBUOhZDOP5MsqAzOC8Fmw7T/AEC3wJ/HQ2VL66oXXMWWibV1FIZq5wE1O7gyM/0ac5B5N2D3id29VCw9R/CGnfGD/utQo6f9oZeHxur9je5WG/Uck1wkfRVNXDE2qp5OLlDnSt3g5IOMkEZGQDnkX0iTQOLgY+q7Vh9qDwjctvLy8FejXXuFk8b0v+NVMnwsfmx/mu5imx7Hezry1h5z/wDiufyd/wDfLWHnP/4q1G4LlBE/k7/75aw85/8AxT8nf/fLWHnP/wCKtkQfHdZ+xPcrrXW2OivlxrIG8MzT3Wq47idrcBgABydueTYMkKmtVifp69WWhkudZcS231n8pUuBI9vTbGjeBzAk451eKcvHXhaf7BWfaUymeUXwl7BbLxpW93eOK2PuNruNSauOWCaNskTnb2va9wyO+Cd27bgfm/2m53PUdWX2cy0k1ofR8a6SIxiUnhg4LuEQDgZ4IOQDjG1XCLXTPb53abBcjXQGrs1RSxS2MW6olhmh4wSDAySHbdg2HbyZA2hefqRuUmlX0U1oo5nU1wimp4jTwQyTRAt4YcGEsyRkbxkDbjOF9MRNQ2+dag0rWXK8UkjbfVQ2gUQiipKV1Mx9HLwiS7DwWt2Ee2jJcMbF7bJpgDVlyqq+0TCAvgnpqp80ZDpo2lrnkMcDlxJOS0A7cgHAVwiahtiagimq6uipDaZqyikL21MjZIw1jHMLDkOcCd+TgHZuydiiq3TWo6e0UFGKOS5S0lxidG9ksbMUsJJYDw3jLzwnbubbjAz9QRLNkunz692W5VmooLpT6efHNDX08xqBNGZJIQzDxkv2YJILAADjOTlZ3U3dIxLNFpypbO2+trYQ2eAcCnyCQz+UAaSAcgYySMk42fUkTRt8/pLHcY9Y0V2ZYTSMbU1QqZWTscZY3gBj3EvLnDIBxgcHcByrH0la6OoutJNXNLJyH8RLJTTsfVT8MvbI+QsDC9oBAAe8EE7cbF9Xe1sjCxzQ5pBBBGQQd4Kybdpq1W2SF9NDN/IAiBstTLKyHYR7Rr3EN2EjYBsJG5RpO0Ha9F3KC017a+irqm4vppoZP5amMNWXE8F2cB7iDggyEEY2E7laaLs8dqtED30D6OvlhiZVh7w8uexvBBJDiNoGcg5IIzt2DfRTJpFu3m0X8CS+MK771Kt5YOi/gSXxhXfepVvLG+Wk8CIiJF+S9o3lfmZ/AaTzKd1PqqlsFXQUclvra2orhI6NlM1pPtME5yRzjdzFBR8Y3nCca3nUX1cDuSvvkY/xp1cN7k775GP8aC041vOnGt51F9XDe5O++Rj/ABr9N1rwhkaTvf6Y4h9b0FlxredONbzqO6s/+6l7/Yi/GnVn/wB1L3+xF+NBY8a3nTjW86jurMZwdKXsf8OL8a56sx3K3rycf40FhxredONbzqP6stnWpevJx/jXHVmO5S9+Sj/GgseNbzpxredR/Vke5O+H/hR/jTqyPclfPJR/jQWHGt5041vOo/qyPclffJR/jQaxJ3aSvnko/wAaCw41vOnGt51HHWLh/wBUb75GP8a56sXH/qjfvIx/jQWHGt5041vOo/qxd3IX7yMf411nWwGw6SvoPMYY/wAaC041vOnGt51F9XDe5O++Rj/GnVuO5K++Rj/GgtBI08q/WcqOt2tqaqvNDbJbHdKKWtc9sT6iNgaS1pcdzidw5uUKpZKOMewf1ThB8q05/wAjdZ4tqfqevqRXznQVD0z9jRlvMnFdF0s0HDxng8LhDOMjOM5xkKo4Gpe2lo82SfxCy6uFy1pfCyeW8iweBqXtpaPNkn8QnA1L20tHmyT+IWHZyX5xvIsHgal7aWjzZJ/EJwNS9tLR5sk/iE7ORzjeRYPA1L20tHmyT+ITgal7aWjzZJ/EJ2cjnG8iweBqXtpaPNkn8QnA1L20tHmyT+ITs5HON5Fg8DUvbS0ebJP4hY9x1Dc7ZeKW1117tFNNVsLoHvtsgY8g4Lc9EbDu2HGcjG3YnZyRzi2RYPA1L20tHmyT+ITgal7aWjzZJ/EJ2cjnG8sPUfwhp3xg/wC61C/PA1L20tHmyT+IXUbfd6qvoJ7hcaGSKjmM4ZT0T4i4mN7ACTK4AYeTu5Ar4dLKWWouUs08WuvcLJ43pf8AGqmT4WPzY/zUrrv3Kx+OKX/GqqT4WPzY/wA10s2kNwXK4G4LlAREQcKdvHXhaf7BWfaUyolMajmNHqO1VklPWSQNo6qJz6elkn4LnPgIBDGkjIY7BIxsKmeUVposrqgpOxLx5oq/Vp1QUnYl480Vfq1pyjPVaqLK6oKTsS8eaKv1adUFJ2JePNFX6tOUNVqosrqgpOxLx5oq/Vp1QUnYl480Vfq05Q1WqiyuqCk7EvHmir9WnVBSdiXjzRV+rTlDVaqLK6oKTsS8eaKv1adUFJ2JePNFX6tOUNVqosrqgpOxLx5oq/Vp1QUnYl480Vfq05Q1WqiyuqCk7EvHmir9WnVBSdiXjzRV+rTlDVezRfwLL4wrvvUq3l8ruWsbjomx0Va+zuqKCsrawuEvDp5WF1RI9hIcMjhMOQCAdnfVlovU7NW2cXKKgqaSEvLBx2MPI2EtIOSAdmSBtB5lnWkUSIihLy15xC7wKK1mSNe6QI38VVfUxWtf7i7wKJ1n1+aR+ZqvqYgsBNJge3O5OOk+OV1t3DwLG1VqODTFAyuq6KsqKYvDHvpwwiMk4BdwnDAJOM7ufGxBu8dJ8cpx0nxypyq1THS3q22qS13Dj7i3hQvHElmwAuBPD3tByQAc8mdi99rujrhNVxm31lK2mkMXDn4vgyEb+DwXkkDZtIG/G8EANTjpPjlOOk+OV+Fmm8wjUIsjoJxO6mNS2UhvFlocGkAg5yCRvAHfQavHSfGK546T4xXWiDs46T4xXHHSfGKwNQ6ootO1NEy4w1EdNVvEYrAGmGN5zgPOcjdvwR39hx6mXZzr2619LqwARiXok8XxJB2DB4fCzkEYxnl3bUGrx0nxynHSfGK/CzGXuB2o5LGaeobUsphVCQhvFvYTwdhBJznIwQN3gQa3HSfGKcdJ8Yr8Ig7OOk+MU46T4xXWiD98dJ8Ypx0nxyvwiD98dJ8YrnjpPjFdaIJnUZLtcaNJJJ4+o+xKpo3Ho2pHM4fUFMai6+NG/P1H2JVLH7+qvlD6gg+Z+x/qyyWzSlBTVNwp2TNaQ5hkAI2k7VR9Xune2dL5ULUljtrCQNNUTu/xbB/+1df83dy1F5OP8KDP6vdO9s6XyoQ69072ypT/AMULQ/m7uWovJx/hT+bu5ai8nH+FBmnX+nh/0jTfolCflA072xp/KBaX83dy1F5OP8Kfzd3LUXk4/wAKDN/KBp3tjT+UC56v9O9sqf8AbC0f5u7lqLycf4U/m7uWovJx/hQZ3V/p3tlT/thOr7TvbGm8oFo/zd3LUXk4/wAKfzd3LUXk4/woM7q+072ypvKBfOfZpvNov1pt81DVwy1FNMQWseCeA8bT+to/Wvq/83dy1F5OP8KyNVWehv8AYaq2RWOnonzBvBqI42cJhDgcjAB5MbxsJQfKdBeyhc7E6K33APuFvyGtBcOMiHeJ2EDmJwOQgL62NfafIBNxpwTyGQbFKP0nFpY0lzsNmNU6mYW1lNVOE3RbM5JAI9q8cmBjds3g19mutjvVviraHTlDJDJzMZlpG8EcHYRzIOvq+092xpvKBOr/AE92ypvKBaX83dy1F5OP8Kfzd3LUXk4/woJbUeqbPeX2Snoq6GWcXaldwGvBJHDxn+8L6LID01J/3B/msinbQcY1zNOUcb2nIcGMBB5CDwd62oA6aYzObwSQABnOAg9w3BcrgbAuUBERAREQEREBERAREQEREBERAREQEREGTqSxUOpLU+2XBjn073NeeC7BBaQdh5N2PASpSt07ctH1Ul20jEZqF54VXZyTwXjlfCeR2Bu5e/sC+gogx9N6it2pLeKy3ylwB4Mkbhh8TuVrxyEfqPJlbCjdSaTnNxOoNMzsob40fyjSP5GsHxZBz8zt/wDcR7dK6tgvvG0VTA+33ml2VNDL/Saedp/rNPIRzjnGQ26/3F3gUTrPr80j8zVfUxW1f7i7wKJ1n1+aQ+Zq/wDCxBWN3DwLy3a3091tlTb6pvCgqYzG8d4jeO+N474XqbuHgXKD5a6032bSsVbU0czr1p6ZjKMAOLqhsTiHEbMkPaQNmc8EHlVDqSG701htTaYVYaapj7mKLJm4t2TJwMe2/pHbwduNysUQfL5+nkEEDzLfzRi8A03BZO+boPA4YlABcRk7A8cLZsTVNuudHd44rWbxVPp7TI1tS9kz3SuErZRGZWYIJDSMg53DeRn6giD5te3XyvulF0JUXe3Wl9COIeKSplkZUB2CJAHtfnGMGTLCAcg5ytCyUldU6suTKutvrIYXwTQkiaOCR4aRK0EgtLC4g8AEjm2DKuUQTmr+gKo0VsuFuq6ymqJCJRDSSSsY0seAS5oIBBIxtyM53DKxbTbNT2WjvVrik6JFLRltoqn44TwckMcTsy0gAZ2YxyK9RB8zt41Pxb5rQ67l/Sl3RDLnxg/0zGzgCTlySfa+02Acq81viuzLxNV26lvJrZLAYo566GYg1QcSRmTIbtGQCQ3O7IO36qiCM9j2C7NY+avrq+USQsEkFXSzRmOUbyHSvcTnJzwAGbARjcrNEQEREBERAREQTGoevnRnz1R9iVSx+/qr5Q+oKa1D186M+eqPsSqWP39VfKH1BB7zTsO8BcdDR/FH6l3og6Oho/ij9SdDR/FH6l3og6Oho/ij9SdDR/FH6l3og6Oho/ij9SdDR/FH6l3og6Oho/ij9SdDR/FH6l3og6Oho/ij9SdDR/FH6l3og6Oho/ij9ShL9Yq7TFzn1JpyAz08p4dxtjdglHLJGOR42kjl7+4/QkQY9huVsv8Aa4bjbpWy08o34wWnlaRyEco/yWj0NH8UfqUTfbFX6cukupdLw8PjNtxtbdjalo3vYOSQbTs3+EkGo07fbfqK2xXC3TCSF+xzTsdG7la4chHN+kZBBQe8U7BuAXYGgbgv0iAiIgIiICIiAiIgIiICIiAiIgIiICIiAiIgIiICm9V6TptQCGqimkobtTbaWuh2SRnmPxmnlB5zuyVSIghLVqqqZVdT+p4WUV5DTxUrdkFaB/WjPIedu/6h1az6/NI/M1X1MVFq2xUF/tb6S4Q8Ywe2jeNj43cjmnkI/wD9yF8yu1RdNOay05T6mrY56KnbMyluJ2OkY4NAEg5CCACdxyCTvKD6u3cPAuV0Q1dPNK+njnjfLGxr3sa4EgOzgkcgODjwLvQEREBERAREQEREBERAREQEREBERAREQTOoR/rvo48onqB/6LlSR+/qr5Q+oKc1D166O/tFR9i5Ucfv6q+UPqCDVREQEREBERAREQEREBERAREQFEag0vW0Nyk1HpMsguR21VG44hrgOQjcH78O2bd+Mkq3RBP6U1RQ6lpnmFr6etpzwKqjm2SwPGwgjlGc4PL3jkCgUnqvSRuVXHebNUi3agpxiOpA9rKPiSjlad2cEjv7lxpnWArq02W9Uptd+jHtqd59pMPjxO3OB343jbvwSgrUREBERAREQEREBERAREQEREBERAREQEREBERAREQeWv8AcXeBfP8A2R6UV2qdN0vEwTGWlrGhk4JjJLWYzjbjON23mX0Cv9xd4FF6y6/NJfM1X1MQRehNJar0jquKeenjqbfUN4id8EwcGt2cE4ODgEDk2DKtLDp+y19JU1NbaLfU1D7hWB0stMx7zipkAySCTgAAd4BVTdw8CxdLtD7TUteA5pr64EEZBBqZdhCth5Vy8OepPTfc/afocfoTqT033P2n6HH6FAaKsNPU19fC6wWua3i71UT6gsBmjaGktaBwfaNBxgh2QdmBvVdcdS3Kg1DHZ3WinzVtJoqh9aRHMQRlpPFktcG5ONucYBOVeWK/bR6k9N9z9p+hx+hOpPTfc/afocfoWTWa2dDf6i101nq6sUkkcdTJCyR5aXgHLQ1hBAByeE5p34BXqotSV10qag2u0MqKKCqfSOmfVCN4e0bXcAtPtAcDIJO3IaU+kfb2dSem+5+0/Q4/QnUnpvuftP0OP0LLtesKi4Osg6WRRtuonDT0SSY3xZyCOAMg4G3YRk7Nm3xW7V9dS6Zrr3daOJ0LKqSOJsFQXvc7jSwMwWAADZtycgZwNybh9qHqT033P2n6HH6E6k9N9z9p+hx+hYdx1vWW2O6R1VlYKy3NhlkiZV5ZJE84BY8sGSDsIIG44KqbZUVlTFK6toRRvbK5rGiYSB7BufkAYzzEZGFP0fae1HpnT8NBA6KxWxjjXUbCWUkYJBqYwRkDcQSCOUEhbnUlprudtH0KP0Lo1T8HU/jCi+9RKg5Vx/k2yzTfpfcY3UlpnudtH0KP0J1JaZ7nbR9Cj9C2UXLyvtrpjdSWme520fQo/QnUlpnudtH0KP0LZROV9mmN1JaZ7nbR9Cj9CdSWme520fQo/QtlE5X2aY3UlpnudtH0KP0LNuNktFsvGn5rfaqGkldXPYX09OyMlpppzgkAEjIBx3gqsLE1D8Jac8YP+61C0wyvKfaMpNM7UPXro7+0VH2LlRx+/qr5Q+oKc1D16aO/tFR9g5Ucfv6q+UPqC7GLVREQEREBERAREQEREBERAREQEREBYupNN23UlGKaviPDjPChnjPBlgdyOY7eDkDvHG0FbSIICl1BddHVEdv1Y41Nte4MpryxuzvNmA/onv7j39pF1DLHPEyWGRskbwHNewggg7iCN4XFTBDVU8kFREyaGQFr43tDmuB3gg7woaTTd40fK+s0i81VtLi+Wy1Ehx3zC85LT3jsPf2BBfop/TOq7ZqSJ4pXvirIdk9HOOBNCdx4TTyd8ZH6dioEBERAREQEREBERAREQEREBERAREQEREBERB5a/wBxd4FF6y6/NJfM1X1MVpX+4u8Ci9Y9fekvmar6mIKpu4eBYumGCS0VLCXAOr64EhxBwamXcRtB742rabuHgWPpT4Mn8YVv3mVWw8q5eHlptFWSkjlZTMuEDJXF8jY7lUtD3HeSBJtJ5Sd6/dXo+yVmOiIKmQB7JGA1s/8AJlmeCWYf7XGTgDA2reRX1FN1kjTdpFcK4QPFSWtZI8TyDjg0YHGDOJCOd4JX6g09a6e4y18NO6OeeTjZAyZ4je/45jB4Bdy5IznbnK1EU6RthU2kLHS1FNUQUskclNI+WEtqZQIy45cAOFgAne3ccnZtK7Rpiz9DVtKaQupq0l00D5pHREk5JDCSGnO3LQDnathE1DbDk0jZJaGejkpZXxVBaZnOqpTJJwf6Ic/hcMgcgJwOQLZgibBBHCwvLI2hoL3l5IAxtJJJPfJJPKv2iDI1T8HU/jCi+9RKgU/qn4Op/GFF96iVAuL8rzHR0vCY19qCpsNtpGUTWGuuFUyjgfICWRufn25A34A3c+F6+Jr7SxlVWXw1NDA18lW+qhY1wAYcFpY0AAEZIIJ7+zB/WrNO02prWKKokkgeyRs0M8RAfFI3c4Z8JGO/yb1xFbr262T01VfI3VTojHFUwUgjLHEYD3NLyCQduBgd7cRhLNRp/pS6rslVSVlUyt4uGiDXVBnifCYw4ZaSHgHBBGCBtzsysTUGq43C2z2q5SwNZc4KathlpiwljxnDmyMDhkAEEYzk7+T8zaAfVxXdlZdg83JlOS+OnLTHLFjguy57uECRtBye+vbedN3e8U9ubU3um46irI6rhNoCGPczOBweMyMknJydwwBg5mcZfJ9tIapsxoHVvRb2xCc0xa6CQSmb4gjI4Zd3gMr3W24Ut0pG1VHLxkRJbkgtcCDggggEEEEEEAhR1T7HjquGqbV3KCZ8tz6Zxg0WYw8jBY9heeGwgAYyDv281ZZLXFaaAU0UVLHkl7hS04gjyd5DATjcN5J75UZTHX1SNBYmofhLTnjB/wB1qFtrE1D8Jac8YP8AutQnT/tDLwztQ9emjv7RUfYOVHH7+qvlD6gpzUPXro7+0VH2DlRx+/qr5Q+oLuYtVERAREQEREBERAREQEREBERAREQEREBERBNam0dbr9Mysa+WhusPuNfSngSsONgJ/rDvHkyARlYrdTXzScgg1dS9E0GcMvFHGS3HJxrBtae+NnIAd6v11vY2RjmOaHNcCCCMgg7wUHVQV1LcaWOqoqiKop5BlskTg5pHhC9Kh67Q0tuq5LlpCv6UVTzwpKVwLqSc/wC8z+qe+N3IBvX5pdeyWyoZQ6wtr7PUOPBZVNJkpJT3nj+j4Du5SEF0i6oJoqiFksMrJYnjLXscCCOcEbCu1AREQEREBERAREQEREBERAREQEREHlr/AHF3gUXrDr70p8zVfVGrSv8AcXeBResevvSfzNV9TEFWNw8CxtKfBk/jCt+8yrZG4eBY2lPgyfxhW/eZVbDyrl4a6Ii0ZiIiAiIgIiIMjVPwdT+MKL71EqBZF7oZLjQcRDOyCVs0M7HvjLwDHI14BAIJBLQDgjeuji9TdtbR5sk/iFzdfpZZ2WNunnMZqt5MrB4vU3bW0ebJP4hOL1N21tHmyT+IWPx8/TTu4t7KZWDxepu2to82SfxCcXqbtraPNkn8Qo+Pn6O7i3kysHi9TdtbR5sk/iE4vU3bW0ebJP4hPj5+ju4t4rE1D8Jac8YP+61C/HF6m7a2jzZJ/ELwV7buLzp419bQzxdHPw2npHwkO6GnwSTK8EYzswN427MG2PQzxstRepL4c6h69dHf2io+wcqOP39VfKH1BTeoT/rro4f/AFFR9i5Ukfv6q+UPqC6FGqiIgIiICIiAiIgIiICIiAiIgIiICIiAiIgIiIC6Kqmp6ynfT1UEc8Mgw+ORoc1w5iDsK70QQs2hqqzzuqtG3V9scTwn0M5MlLIeXYclmecZ72FwzXVZZnNg1fZZ7ZtwK2nBmpXHnyMlueY5Ku1+HsbIwsc0OaRggjII8CDz2+40VzpW1VDVQ1MDt0kTw4H9IXrUbcPY9thqnV1jqKiwV53y0LuCx/edH/RI7wwvN0frywbK630uoqQb5qM8TUAc5YdhPeb+tBdopO0eyDp65T9CyVT7fWjYaW4MMEgPNt2E94ElVYIIyNyDlERAREQEREBERAREQEREHlr/AHF3gUVrIka80h34av8AwsVrX+4u8CidZ9fukPmqv/CxBWN3DwKYt1dJbtOzzwwNmlddaiGNj5DGC6SuewZIBIALgTgHYNyp27h4FHt62h/4g/8Ac1O9S2ekWb1G1xmpu1Vo85yfw6cZqbtVaPOcn8Ot5MLk+Rn7a9rFg8ZqbtVaPOcn8OnGam7VWjznJ/DrewmE+Rn7O1iweM1N2qtHnOT+HTjNTdqrR5zk/h1vYTCfIz9naxYPGam7VWjznJ/DrzXO43+226quFRaLYYKWF80gjuUhcWtBJwDAATgHGSPCFTrG1r1m37xfUfZuU49fO3SL0sX6vVdJbqDj4YGzSumhhjY+QxgukkawZIBIALgTgHYNy6OM1N2qtHnOT+HX51T8HU/jCi+9RKgW3X6uWNkinTwmU2weM1N2qtHnOT+HTjNTdqrR5zk/h1vYTCx+Rn7adrFg8ZqbtVaPOcn8OnGam7VWjznJ/DrewmFHyM/Z2sWDxmpu1Vo85yfw6cZqbtVaPOcn8Ot7CJ8jP2drFMXO43+226ruFRaLYYKWF80gjuUhcWtBJwDAATgHGSPCF33z4V074wf92qF3606zb94vqPs3Lovnwrp3xg/7tULo6WdzltZ5YzGzTxah699HfP1H2LlSR+/qr5Q+oKb1D176O+fqPsXKkj9/VXyh9QVhqoiICIiAiIgIiICIiAiIgIiICIiAiIgIiICIiAiIgIiICIiDNvFjtV7g4m50FPVsxs41gJb4DvH6CFMfk7Fv9tpu/wB1sxG0Qtk4+Af8N+/9JVyiCFNX7INnA4+gtuoIB/XppDTzkc5Dvak94L9N9ku1Uzgy92+7WV/PV0juBnvObnI7+ArhflzWvaWuAIIwQdoKDLtWpbJd8C33ajqXu3MjmBf+znI/UtZTd00Lpa656LsdEXHe+NnFOPhczB/vWb+TyOl+CdSagtwH9GJlYZIh/wDa4H60FsiiOkOuaP3pq+nrGjdHW0DR+tzDkp0b7IlLsmtNhrwOWmqZIif0PB2+goLdFE9VGroPfWhJsD+tT3GKTPOQMA/oQ68qoRip0XqdrtgxDSiUZ8IcP1oLZFED2RY27ZtKashb8Z9tOM/ocVz+Uih7Q6k83O9KC2RRH5RoXe46W1VOOUx20kDw5cE6urg/ZDojURcdo4yFrBjvknZ4EFbX+4u8CidaEDXmkCSAOKqt/gYv3V6n1VVQkU2h6hjSNr6qujjx+jaSo3XVPqu+32y0VxorVRSVNPVRQN418gDS1oeXEDeBjGOXeg+tt3DwKPb1tD/xB/7msP2MfY3lsJZcrzKXVg2xU0chLIeXJxsJz4QN+04I3G9bQ/8AEH/uan/L/wCI/wBi4Xnr6UVlJJTGaeESDBkgeWPAzyOG0HkyNu3ZhehF5zpfPaS1sl9kK52l1yvHQcVvjmjiF1qMteXEEg8PJ3DYSRt3KgqdSU9puFLa6mkuRY+aOkZWyMbxckjm5AySHOOzaQ0gHeQlPpVkGppdQNu1ydVys4p8buJ4sxg5DMBmQAeUHPOTtX5uOjqWvuLq6S4XBjzUxVTWNdGWsewYAGWE8HlIJIySRglaWy37UdFTqSlvNLfqGjbUskoopmPmZMxha9gI2Br+MbtGwkAHGwr86A1CLtaqOkLaiaopaOnNRUvkY4F7omu2+3LyTk7SACQdpXsq9JUlZc6i5S1VQKqamdSiRjIQWMcADghmScDA4RIG3AGV+bFpGmsdXT1NLcK95ipWUjmSGMtljYTwOFhgOQDgEEbAM525jeOtJUZWNrTrNv3i+o+zctkrG1r1m37xfUfZuVcfMTfDo1T8HU/jCi+9RKgU/qn4Op/GFF96iVAuj8nzGXS8V566lFZSS0xmnhEgwXwPLHgZ5HDaDyZG3bswoWktbJfZCudpdcrx0HFb45o4hdajLXlxBIPDydw2Ekbdy+hKdg0qyDU0uoBdrk6rmZxT43cTxZjByGYDMgA8oOecnasMctbaWFTqSntNwpbXU0lyLHzR0jK2RjeLkkc3IGSQ5x2bSGkA7yF5qnUlLeaW/UNG2pZJRRTMfMyZjC17ARsDX8Y3aNhIAONhXfcdH0tfcXV0lwuDHmpiqmsa6MtY9gwAMsJ4PKQSRkkjBK/dZpKkrLnUXKWqqBVTUzqUSMZCCxjgAcEMyTgYHCJA24Ayp/ifbx6A1CLtaqOk4NRNUU1HTmoqXyMcC90TXbfbl5JydpABIO0qtU5YtI01jq6eppbhXvMVKykcyQxlssbCeBwsMByAcAgjYBnO3NGq5639JjG1r1m37xfUfZuXRfPhXTvjB/3aoXfrXrNv3i+o+zcui+fCunfGD/u1Qur8f+tY9XzHh1Cf9edGj/tqj7Eqlj9/VXyh9QUzqHr60b89UfYlU0fv6q+UPqC1Q1UREBERAREQEREBERAREQEREBERAREQEREBERAREQEREBERAREQEREBERAREQEREBERAREQeWv9xd4FE6z6/NIfNVf+Fitq/wBxd4FFay6/dI/M1X1MQVbdw8Cj29bQ/wDEH/uasG7h4FF0Ny06+1Vdsut2ooHi5VT3RPrRDIwire9hyHBwIIaQQRyKZN7iL9aq8TaofonR3dSf3im9cnROju6k/vFN65c/xr7i/dnpcbU2qH6J0d3Un94pvXJ0To7upP7xTeuT419xPd/S42ptUP0To7upP7xTeuTonR3dSf3im9cnxr7h3Z6XCxta9Zt+8X1H2blgdE6O7qT+8U3rl+JpNFTwvhm1K2WKRpY9j9QzFrgRgggzYII2EFJ+NZd7iL1G3qn4Op/GFF96iVApW433SlxpHUtTfrYYi5r/AGlwbGQWuDmkOa4EEEAggjcvD0To7upP7xTeuWvV6VzssqmGfGasXG1Nqh+idHd1J/eKb1ydE6O7qT+8U3rll8a+407s9Ljam1Q/ROju6k/vFN65OidHd1J/eKb1yfGvuHdnpcJtUP0To7upP7xTeuTonR3dSf3im9cnxr7h3Y39a9Zt+8X1H2bl0Xz4V074wf8AdqhYk0mip4XwzalbLFI0sex+oZi1wIwQQZsEEbCCvXWXq03O9afhoLpRVcra17zHBUMkIAppxkgEnGSBnvhbdPp3CWWs8suVmn61F186N+eqPsSqWP39VfKH1BTWouvnRvz1R9iVSx+/qr5Q+oKUtVERAREQEREBERAREQEREBERAREQEREBERAREQEREBERAREQEREBERAREQEREBERAREQEREHmrQTEQOZSOtLJea692S6WiGnlNDHM14ml4GS8NAxsOdx/uVq9vCaQVl1dHO8YjnmYOZjyPqKCV6G1z2DQfS//inQ+uewKD6WfwrcNrrSdlwrB/xnelfnpXW9sKzyzvSgxeh9c9gUH0s/hXHQ2ucbKGgz36s+hbfSut7YVnlnelOldb2wrPLO9KDDFNrsf8yt/wBKPoX66H132DbfpR9C2uldb2wrPLO9KdK63thWeWd6UGL0PrvsC3fSj6Fx0PrztfbfpZ9C2+ldb2wrPLO9KdK63thWeWd6UGGafXhGygtw8FWfQnQ2vOwrf9LP4VudK63thWeWd6U6V1vbCs8s70oMPobXnYVv+ln8KdDa87Ct/wBLP4VudK63thWeWd6U6V1vbCs8s70oMPofXnYNu+ln0J0NrzsG3fSz+FbnSut7YVnlnelOldb2wrPLO9KDE6H13y0Nu+ln0J0NrrsC3/Sz+FbfSut7YVnlnelOldb2wrPLO9KDE6H132Db/pZ9C54jXfYFv+ln8K2uldb2wrPLO9KdK63thWeWd6UGLxGu+waD6Wfwp0PrrsCg+ln8K2uldb2wrPLO9KdK67thWeXd6UGJSWfVNbqax1t0paKKlt8kry6OoL3HhRloGMDlIVdGzNZUEcrv8gvJT2+qYRwqyqcOYzOP+a1aaARswg//2Q==)"
      ],
      "metadata": {
        "id": "Vm7_M-bSIMeF"
      }
    },
    {
      "cell_type": "markdown",
      "source": [
        "\n",
        "\n",
        "---\n",
        "\n"
      ],
      "metadata": {
        "id": "penJsNM4IbjE"
      }
    },
    {
      "cell_type": "markdown",
      "source": [
        "## Details of Key Components\n",
        "1️⃣ **Driver Program & SparkContext**\n",
        "\n",
        "* Driver Program: The main program you write to define and manage the Spark application.\n",
        "\n",
        "* SparkContext: Created within the Driver Program, this is the entry point for Spark to communicate with the cluster. SparkContext is responsible for coordinating all activities between the Driver and Worker nodes.\n",
        "\n",
        "2️⃣ **Cluster Manager**\n",
        "\n",
        "*   Cluster Manager: Manages resources and allocates them to Executors running on Worker nodes.\n",
        "\n",
        "  Spark supports various types of Cluster Managers:\n",
        "  *   Standalone: Spark’s built-in cluster manager.\n",
        "  *   YARN: Common in Hadoop ecosystems.\n",
        "  *   Apache Mesos: A versatile cluster manager.\n",
        "  *   Kubernetes: A modern container orchestration tool.\n",
        "\n",
        "\n",
        "\n",
        "\n",
        "\n",
        "3️⃣ **Worker Nodes & Executors**\n",
        "\n",
        "* Worker Nodes: The physical or virtual machines in the cluster where actual data processing happens.\n",
        "\n",
        "* Executors: Each Worker node has one or more Executors responsible for executing tasks on data and storing intermediate results (if needed).\n",
        "\n",
        "* Tasks: Units of work sent from the Driver to Executors. Each Executor can run multiple tasks in parallel.\n",
        "\n",
        "* Cache: Executors can cache intermediate results in memory for quick retrieval, speeding up iterative computations like machine learning."
      ],
      "metadata": {
        "id": "GyYBc0tqIgBx"
      }
    },
    {
      "cell_type": "markdown",
      "source": [
        "\n",
        "\n",
        "---\n",
        "\n"
      ],
      "metadata": {
        "id": "XblT8b7XJuGM"
      }
    },
    {
      "cell_type": "markdown",
      "source": [
        "## Spark Execution Flow: Step by Step\n",
        "1. **Submitting a Job**: The Driver Program creates a job, which is divided into stages by the Directed Acyclic Graph (DAG) Scheduler.\n",
        "\n",
        "2. **Resource Allocation**: The Cluster Manager allocates resources to Executors on Worker nodes.\n",
        "\n",
        "3. **Task Execution**: Tasks are distributed to Executors on Worker nodes, where data is processed in parallel.\n",
        "\n",
        "4. **Collecting Results**: Executors process the tasks and send results back to the Driver Program.\n"
      ],
      "metadata": {
        "id": "eQCslns6KPD_"
      }
    },
    {
      "cell_type": "markdown",
      "source": [
        "\n",
        "\n",
        "---\n",
        "\n"
      ],
      "metadata": {
        "id": "TpV98uMQKouI"
      }
    },
    {
      "cell_type": "markdown",
      "source": [
        "## 🔑 Key Takeaways\n",
        "1. The Driver Program is the central controller, containing the SparkContext for cluster coordination.\n",
        "2. Worker Nodes house Executors that execute tasks and store data.\n",
        "3. The Cluster Manager ensures resources are allocated for parallel processing."
      ],
      "metadata": {
        "id": "j3mQjF6iKqVF"
      }
    },
    {
      "cell_type": "markdown",
      "source": [
        "\n",
        "\n",
        "---\n",
        "\n"
      ],
      "metadata": {
        "id": "45b0hUHAK0ck"
      }
    },
    {
      "cell_type": "markdown",
      "source": [
        "## 🚀 **Tomorrow - Client Mode vs. Cluster Mode**\n",
        "### On Day 4, we’ll explore the differences between Client Mode and Cluster Mode when running Spark applications. Stay tuned!"
      ],
      "metadata": {
        "id": "tDwhXEQDK1wx"
      }
    },
    {
      "cell_type": "code",
      "source": [],
      "metadata": {
        "id": "1tON_4WqKpdq"
      },
      "execution_count": null,
      "outputs": []
    }
  ]
}