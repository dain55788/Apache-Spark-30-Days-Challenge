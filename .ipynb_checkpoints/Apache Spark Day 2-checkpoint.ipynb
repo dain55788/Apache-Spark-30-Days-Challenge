{
 "cells": [
  {
   "cell_type": "markdown",
   "id": "193035a7",
   "metadata": {},
   "source": [
    "# Day 2: Setting up Apache Spark in Jupyter Notebook"
   ]
  },
  {
   "cell_type": "markdown",
   "id": "bedbb534",
   "metadata": {},
   "source": [
    "### Today, I started hands-on learning by setting up PySpark in Jupyter Notebook! Jupyter Notebook is a free cloud-based environment that makes it easy to experiment with PySpark without the hassle of installing complex setups on your personal computer"
   ]
  },
  {
   "cell_type": "markdown",
   "id": "7d834742",
   "metadata": {},
   "source": [
    "## Why <span color=\"red\">Choose</span> Jupyter Notebook?\n",
    "### Jupyter Notebook allows you to run Python code in the cloud and provides access to GPU/TPU resources. It’s an ideal environment to test and run PySpark code directly in your browser without any complicated installation processes.\n",
    "\n"
   ]
  },
  {
   "cell_type": "markdown",
   "id": "10666f51",
   "metadata": {},
   "source": [
    "## Steps to Set Up PySpark on Jupyter\n",
    "### Step 1: Open a new notebook in JupyterNotebook.\n",
    "\n",
    "### Step 2: Install PySpark and Java:\n",
    "\n",
    "Since Spark requires Java to run, we need to install both:"
   ]
  },
  {
   "cell_type": "code",
   "execution_count": 12,
   "id": "b9aca208",
   "metadata": {},
   "outputs": [
    {
     "name": "stderr",
     "output_type": "stream",
     "text": [
      "The system cannot find the path specified.\n"
     ]
    },
    {
     "name": "stdout",
     "output_type": "stream",
     "text": [
      "Requirement already satisfied: pyspark in c:\\programdata\\anaconda3\\lib\\site-packages (3.5.3)\n",
      "Requirement already satisfied: py4j==0.10.9.7 in c:\\programdata\\anaconda3\\lib\\site-packages (from pyspark) (0.10.9.7)\n"
     ]
    },
    {
     "name": "stderr",
     "output_type": "stream",
     "text": [
      "DEPRECATION: Loading egg at c:\\programdata\\anaconda3\\lib\\site-packages\\vboxapi-1.0-py3.11.egg is deprecated. pip 23.3 will enforce this behaviour change. A possible replacement is to use pip for package installation..\n"
     ]
    }
   ],
   "source": [
    "!apt-get install openjdk-8-jdk-headless -qq > /dev/null\n",
    "!pip install pyspark"
   ]
  },
  {
   "cell_type": "markdown",
   "id": "eb48b424",
   "metadata": {},
   "source": [
    "#### Explanation:\n",
    "\n",
    "1. apt-get installs OpenJDK 8 (an open-source version of Java).\n",
    "2. pip installs the PySpark library, ensuring all necessary components for PySpark are ready."
   ]
  },
  {
   "cell_type": "markdown",
   "id": "6bfe13f9",
   "metadata": {},
   "source": [
    "### Step 3: Set the Java environment variable:"
   ]
  },
  {
   "cell_type": "code",
   "execution_count": null,
   "id": "ecc476d7",
   "metadata": {},
   "outputs": [],
   "source": [
    "import os \n",
    "os.environ[\"JAVA_HOME\"] = \"/usr/lib/jvm/java-8-openjdk-amd64\""
   ]
  },
  {
   "cell_type": "markdown",
   "id": "fe03da3b",
   "metadata": {},
   "source": [
    "#### Explanation:\n",
    "Setting JAVA_HOME ensures PySpark can locate the correct Java path, avoiding version conflicts."
   ]
  },
  {
   "cell_type": "markdown",
   "id": "2a818085",
   "metadata": {},
   "source": [
    "### Step 4: Create your first Spark Session:"
   ]
  },
  {
   "cell_type": "code",
   "execution_count": null,
   "id": "810ab645",
   "metadata": {},
   "outputs": [],
   "source": [
    "from pyspark.sql import SparkSession\n",
    "# Creat a Spark session \n",
    "spark = SparkSession.builder.appName(\"PySpark in Jupyter\").getOrCreate() \n",
    "# Print Spark Version \n",
    "print(spark.version)"
   ]
  },
  {
   "cell_type": "code",
   "execution_count": 14,
   "id": "3a350f6b",
   "metadata": {},
   "outputs": [
    {
     "name": "stderr",
     "output_type": "stream",
     "text": [
      "'apt-get' is not recognized as an internal or external command,\n",
      "operable program or batch file.\n"
     ]
    }
   ],
   "source": [
    "!apt-get update"
   ]
  },
  {
   "cell_type": "code",
   "execution_count": null,
   "id": "30f777d7",
   "metadata": {},
   "outputs": [],
   "source": []
  }
 ],
 "metadata": {
  "kernelspec": {
   "display_name": "Python 3 (ipykernel)",
   "language": "python",
   "name": "python3"
  },
  "language_info": {
   "codemirror_mode": {
    "name": "ipython",
    "version": 3
   },
   "file_extension": ".py",
   "mimetype": "text/x-python",
   "name": "python",
   "nbconvert_exporter": "python",
   "pygments_lexer": "ipython3",
   "version": "3.11.5"
  }
 },
 "nbformat": 4,
 "nbformat_minor": 5
}
